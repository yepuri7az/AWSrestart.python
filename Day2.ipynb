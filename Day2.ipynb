{
 "cells": [
  {
   "cell_type": "code",
   "execution_count": null,
   "id": "fda0cc17",
   "metadata": {},
   "outputs": [],
   "source": [
    "x=10\n",
    "print(x,type(x),id(x))\n",
    "x+=1\n",
    "print(x,type(x),id(x))\n",
    "x=3.142\n",
    "print(x,type(x),id(x))\n",
    "x='A'\n",
    "print(x,type(x),id(x))\n",
    "x=\"vinsys\"\n",
    "print(x,type(x),id(x))\n",
    "x=10+5j\n",
    "print(x,type(x),id(x))\n",
    "x=False\n",
    "print(x,type(x),id(x))\n",
    "x=None\n",
    "print(x,type(x),id(x))"
   ]
  },
  {
   "cell_type": "code",
   "execution_count": null,
   "id": "34cc7750",
   "metadata": {},
   "outputs": [],
   "source": [
    "# 3 ways to do formatting in python\n",
    "\n",
    "player=\"sachin\"\n",
    "runs=100\n",
    "average=80.65\n",
    "print(\"player is \",player)\n",
    "print(\"runs is \",runs)\n",
    "print(\"average is \",average)\n",
    "# C style of formatting \n",
    "print(\"Player is %s\\nruns is %d\\naverage is %.3f\\n\"%(player,runs,average))\n",
    "# str.format()\n",
    "print(\"Player is {0} {0} {0}\\nruns is {1} {1} {1}\\naverage is {2} {0} {1}\\n\".format(player,runs,average))\n",
    "# f-string can be used on python 3.5 or higher\n",
    "print(f\"Player is {player}\\nRuns is {runs}\\nAverage is {average}\")"
   ]
  },
  {
   "cell_type": "code",
   "execution_count": null,
   "id": "8b9b70f8",
   "metadata": {},
   "outputs": [],
   "source": [
    "while True:\n",
    "    try:\n",
    "        var1=int(input(\"Enter first number\")) # one step conversion\n",
    "        var2=int(input(\"Enter second number\")) # two step conversionvar2=int(var2)\n",
    "    except ValueError as ex:\n",
    "        print(ex)\n",
    "        continue\n",
    "    except:\n",
    "        print(\"This is a generic except block!\")\n",
    "        continue\n",
    "    else:\n",
    "        print(f\"Addition of {type(var1)} and {type(var2)} is {type(var1+var2)}\")\n",
    "        print(f\"Addition of {var1} and {var2} is {var1+var2}\")\n",
    "        break\n",
    "    finally:\n",
    "        print(\"Finally will always be executed!\")"
   ]
  },
  {
   "cell_type": "code",
   "execution_count": null,
   "id": "7d846d99",
   "metadata": {},
   "outputs": [],
   "source": [
    "control statements\n",
    "- sequential\n",
    "- conditional\n",
    "    (a) selection (branching)\n",
    "        if: else: elif: \n",
    "    (b) iteration (looping)\n",
    "        while: for:\n",
    "- unconditional\n",
    "  continue, break"
   ]
  },
  {
   "cell_type": "code",
   "execution_count": null,
   "id": "f0624ee7",
   "metadata": {},
   "outputs": [],
   "source": [
    " var1=int(input(\"Enter first number\"))"
   ]
  },
  {
   "cell_type": "code",
   "execution_count": null,
   "id": "2052490a",
   "metadata": {},
   "outputs": [],
   "source": [
    "var1=float(input(\"Enter first number\")) # one step conversion\n",
    "\n",
    "var2=input(\"Enter second number\") # two step conversion\n",
    "var2=float(var2)\n",
    "\n",
    "print(f\"Addition of {type(var1)} and {type(var2)} is {type(var1+var2)}\")\n",
    "print(f\"Addition of {var1} and {var2} is {var1+var2}\")"
   ]
  },
  {
   "cell_type": "code",
   "execution_count": null,
   "id": "e274322f",
   "metadata": {},
   "outputs": [],
   "source": [
    "name=\"sachin\"\n",
    "jersey=10\n",
    "\n",
    "print(name+\"india\")\n",
    "print(name.__add__(\"india\"))\n",
    "print(name.__mul__(10))\n",
    "print(name*10)\n",
    "\n",
    "#print(name+str(jersey)+\"india\"+str(3.142))\n",
    "\n",
    "ip=\"192.168.10.1\"\n",
    "#print(int(ip))\n",
    "print(dir(str))"
   ]
  },
  {
   "cell_type": "code",
   "execution_count": null,
   "id": "8e1b4775",
   "metadata": {},
   "outputs": [],
   "source": [
    "print(10/3)\n",
    "print(10%3)\n",
    "print(10//3)\n",
    "print(2**15)"
   ]
  },
  {
   "cell_type": "code",
   "execution_count": null,
   "id": "c75fad8d",
   "metadata": {},
   "outputs": [],
   "source": [
    "var1=eval(input(\"Enter first number\")) # one step conversion\n",
    "\n",
    "var2=input(\"Enter second number\") # two step conversion\n",
    "var2=eval(var2)\n",
    "\n",
    "#print(f\"Addition of {type(var1)} and {type(var2)} is {type(var1+var2)}\")\n",
    "print(f\"Addition of {var1} and {var2} is {var1+var2}\")"
   ]
  },
  {
   "cell_type": "code",
   "execution_count": null,
   "id": "23ab23c0",
   "metadata": {},
   "outputs": [],
   "source": [
    "print(\"print \\\"double quotes\\\" within \\ndouble quotes\")\n",
    "print('print \"double quotes\" within \\ndouble quotes')\n",
    "print('print \\'single quotes\\' within\\nsingle quotes')\n",
    "print(\"print 'single quotes' within \\nsingle quotes\")\n",
    "# single line comment\n",
    "print(\"\"\"\n",
    "        triple quotes can have any number\n",
    "        of \"double quotes\" as well as\n",
    "        'single quotes'\n",
    "\"\"\")\n",
    "print('''\n",
    "        triple quotes can have any number\n",
    "        of \"double quotes\" as well as\n",
    "        'single quotes'\n",
    "''')"
   ]
  },
  {
   "cell_type": "code",
   "execution_count": null,
   "id": "2426fd18",
   "metadata": {},
   "outputs": [],
   "source": [
    "guideline1=\"How to write beautiful code in python\"\n",
    "print(guideline1)\n",
    "print(guideline1[:]) # start:next_to_last:step_count\n",
    "print(guideline1[::])\n",
    "print(guideline1[0:])\n",
    "print(guideline1[0])\n",
    "print(guideline1[0:3])\n",
    "print(guideline1[7:12])\n",
    "print(guideline1[::2])\n",
    "print(guideline1[-1])\n",
    "print(guideline1[-6:])\n",
    "print(guideline1[::-1])\n",
    "print(len(guideline1),guideline1.__len__())"
   ]
  },
  {
   "cell_type": "code",
   "execution_count": null,
   "id": "0b511ea4",
   "metadata": {},
   "outputs": [],
   "source": [
    "print(dir(str))\n",
    "# CRUD \n",
    "# Create Read Update Delete"
   ]
  },
  {
   "cell_type": "code",
   "execution_count": null,
   "id": "62857af5",
   "metadata": {},
   "outputs": [],
   "source": [
    "check_str=\"Python Programming\"\n",
    "print(check_str.isupper())\n",
    "print(check_str.islower())\n",
    "print(check_str.isdigit())\n",
    "print(check_str.isalnum())\n",
    "print(check_str.isascii())\n",
    "print(check_str.isspace())\n",
    "print(check_str.istitle())\n",
    "print(check_str.isdigit())\n",
    "print(check_str.startswith('P'))\n",
    "print(check_str.endswith('g'))"
   ]
  },
  {
   "cell_type": "code",
   "execution_count": null,
   "id": "542af7ac",
   "metadata": {},
   "outputs": [],
   "source": [
    "help(str.startswith)"
   ]
  },
  {
   "cell_type": "code",
   "execution_count": null,
   "id": "b4ee3098",
   "metadata": {},
   "outputs": [],
   "source": [
    "principle=\"Now is better than Never\"\n",
    "print(principle.upper())\n",
    "#principle=principle.upper()\n",
    "print(principle)\n",
    "print(principle.lower())\n",
    "print(principle.capitalize())\n",
    "print(principle.casefold())\n",
    "print(principle.title())\n",
    "print(principle.swapcase())\n",
    "print(principle.center(100))\n",
    "print(principle.ljust(100))\n",
    "print(principle.rjust(100))"
   ]
  },
  {
   "cell_type": "code",
   "execution_count": null,
   "id": "0bacb126",
   "metadata": {},
   "outputs": [],
   "source": [
    "company=[\"v\",\"i\",\"n\",\"s\",\"y\",\"s\"]\n",
    "print(type(company))\n",
    "print(company)\n",
    "token=\"\"\n",
    "print(token.join(company)) # collection as a argument to join\n",
    "token=\":\"\n",
    "print(token.join(company))\n",
    "token=\",\"\n",
    "print(token.join(company))\n",
    "token=\"\\t\"\n",
    "print(token.join(company))"
   ]
  },
  {
   "cell_type": "code",
   "execution_count": null,
   "id": "5e240bfc",
   "metadata": {},
   "outputs": [],
   "source": [
    "fact1=\"python supports multiple assingments\"\n",
    "print(fact1.count(\"python\"))\n",
    "print(fact1.count('s'))\n",
    "print(fact1.count('s',10))\n",
    "print(fact1.index('p'))\n",
    "print(fact1.find('p'))\n",
    "print(fact1.index('h'))\n",
    "print(fact1.find('h'))\n",
    "#print(fact1.index(\"ansible\")) # ValueError: substring not found\n",
    "print(fact1.find('ansible')) # returns -1 is substring is not present"
   ]
  },
  {
   "cell_type": "code",
   "execution_count": null,
   "id": "1c1ec0f2",
   "metadata": {},
   "outputs": [],
   "source": [
    "email=\"devadatta@gmail.com\"\n",
    "email_address=email.split(\"@\")\n",
    "print(\"User name is \",email_address[0])\n",
    "print(\"Domain name is \",email_address[1])"
   ]
  },
  {
   "cell_type": "code",
   "execution_count": null,
   "id": "a6c4dc91",
   "metadata": {},
   "outputs": [],
   "source": [
    "date=\"5-6-2022\"\n",
    "parse_date=date.split(\"-\")\n",
    "print(type(parse_date),parse_date)\n",
    "dd=parse_date[0]\n",
    "mm=parse_date[1]\n",
    "yy=parse_date[2]\n",
    "print(dd,mm,yy)"
   ]
  },
  {
   "cell_type": "code",
   "execution_count": null,
   "id": "9711364e",
   "metadata": {},
   "outputs": [],
   "source": [
    "price=\"Rs 300.50/-\"\n",
    "my_price=float(price.strip(\"Rs\").strip(\"/-\"))\n",
    "if my_price < 500:\n",
    "    print(\"I will purchase it\")\n",
    "else:\n",
    "    print(\"I will wait!\")"
   ]
  },
  {
   "cell_type": "code",
   "execution_count": null,
   "id": "fa404ae6",
   "metadata": {},
   "outputs": [],
   "source": [
    "mystring=\"              python is beautiful python   \"\n",
    "mystring=mystring.strip(\" \")\n",
    "print(mystring)\n",
    "#mystring=mystring.strip(\"python\")\n",
    "#print(mystring)\n",
    "print(mystring.lstrip(\"python\"))\n",
    "print(mystring.rstrip(\"python\"))"
   ]
  },
  {
   "cell_type": "code",
   "execution_count": null,
   "id": "34d670d9",
   "metadata": {},
   "outputs": [],
   "source": [
    "price=\"Rs 10,000.99/-\"\n",
    "price=price.strip(\"Rs\").strip(\"/-\")\n",
    "print(type(float(price.replace(\",\",\"\"))))\n",
    "price=float(price.replace(\",\",\"\"))\n",
    "print(price)"
   ]
  },
  {
   "cell_type": "code",
   "execution_count": null,
   "id": "d7e92e58",
   "metadata": {},
   "outputs": [],
   "source": [
    "firstString = \"water\"\n",
    "secondString = \"fall\"\n",
    "thirdString = firstString + secondString\n",
    "print(thirdString)\n",
    "thirdString = f\"{firstString}{secondString}\"\n",
    "print(thirdString)"
   ]
  },
  {
   "cell_type": "code",
   "execution_count": null,
   "id": "3137db16",
   "metadata": {},
   "outputs": [],
   "source": [
    "name = input(\"What is your name? \")\n",
    "print(name)\n",
    "color = input(\"What is your favorite color?  \")\n",
    "animal = input(\"What is your favorite animal?  \")\n",
    "print(\"%s, you like a %s %s!\"%(name,color,animal))\n",
    "print(\"{0}, you like a {1} {2}!\".format(name,color,animal))\n",
    "print(f\"{name}, you like a {color} {animal}!\")"
   ]
  },
  {
   "cell_type": "code",
   "execution_count": null,
   "id": "72235e02",
   "metadata": {},
   "outputs": [],
   "source": [
    "# collections are datastructures / in memory databases\n",
    "# list [] tuple () set {} dict{key:value}\n",
    "# list is a collection of hetergeous elements "
   ]
  },
  {
   "cell_type": "code",
   "execution_count": null,
   "id": "767a7fd8",
   "metadata": {},
   "outputs": [],
   "source": [
    "string1=\"devadatta\"\n",
    "print(dir(string1))\n",
    "print(string1.__mul__(3))"
   ]
  },
  {
   "cell_type": "code",
   "execution_count": null,
   "id": "4dd74b3f",
   "metadata": {},
   "outputs": [],
   "source": [
    "players=[\"SAchiN\",\"VIRAT\",\"RoHit\"]\n",
    "\n",
    "players_lower=[]\n",
    "\n",
    "for each_player in players:\n",
    "    players_lower.append(each_player.lower())\n",
    "\n",
    "myplayer=input(\"Choose a player\")\n",
    "\n",
    "if myplayer.lower() in players_lower: \n",
    "    print(f\"You have selected {myplayer}\")\n",
    "else:\n",
    "    print(\"This player is not present\")"
   ]
  },
  {
   "cell_type": "code",
   "execution_count": null,
   "id": "660fe740",
   "metadata": {},
   "outputs": [],
   "source": [
    "mystring=\"python is easy\"\n",
    "print(mystring.replace(\"python\",\"ansible\"))\n",
    "print(mystring)"
   ]
  },
  {
   "cell_type": "code",
   "execution_count": null,
   "id": "9201e30f",
   "metadata": {},
   "outputs": [],
   "source": [
    "# collection list[] tuple() set{} dict{key:values}\n",
    "# list is hetergeous collection of elements which is mutable (It operates on the same memory location!)\n",
    "banks=[\"sbi\",\"axis\",\"idbi\",\"kotak\",\"bob\"]\n",
    "print(banks,type(banks),id(banks))\n",
    "#banks.sort(reverse=True)\n",
    "banks.sort()\n",
    "print(banks,type(banks),id(banks))\n",
    "banks.reverse()\n",
    "print(banks,type(banks),id(banks))\n",
    "banks.append(\"pnb\") # at the end\n",
    "banks.insert(0,\"yes bank\") # @ particular position\n",
    "banks.insert(3,\"oriental\")\n",
    "\n",
    "new_banks=[\"hdfc\",\"icici\",\"bandhan\"]\n",
    "#banks.extend(new_banks) # merge elements of one list into another list\n",
    "banks.append(new_banks) # list of list can be created\n",
    "\n",
    "#print(dir(banks))\n",
    "print(banks)\n",
    "\"\"\"\n",
    "print(\"First bank is \",banks[0])\n",
    "print(\"Last element of the list is \",banks[2:6])\n",
    "print(\"Last element of the list is \",banks[-1])\n",
    "print(\"Reverse the banks\",banks[::-1])\n",
    "print(\"Print every next banks\",banks[::2])\n",
    "print(banks[8][1]) # icici\n",
    "\"\"\"\n"
   ]
  },
  {
   "cell_type": "code",
   "execution_count": null,
   "id": "8ef2a278",
   "metadata": {},
   "outputs": [],
   "source": [
    "print(dir(list))"
   ]
  },
  {
   "cell_type": "code",
   "execution_count": null,
   "id": "12575874",
   "metadata": {},
   "outputs": [],
   "source": [
    "banks=[\"sbi\",\"axis\",\"idbi\",\"kotak\",\"bob\",\"kotak\",\"kotak\"]\n",
    "\n",
    "#mybanks=banks # shallow copy \n",
    "\n",
    "#mybanks=banks.copy() # deep copy at a new memory location\n",
    "\n",
    "#mybanks.clear()\n",
    "\n",
    "#banks.pop()\n",
    "#banks.remove(\"axis\")\n",
    "#print(\"Poped bank is\",banks.pop(0))\n",
    "\n",
    "#print(mybanks,id(mybanks))\n",
    "#print(banks,id(banks))\n",
    "\n",
    "print(banks.count(\"kotak\"))\n",
    "print(banks.index(\"kotak\"))\n",
    "print(banks.index(\"kotak\",4))"
   ]
  },
  {
   "cell_type": "code",
   "execution_count": null,
   "id": "10ea67a9",
   "metadata": {},
   "outputs": [],
   "source": [
    "banks=(\"sbi\",\"axis\",\"idbi\",\"kotak\",\"bob\",\"kotak\",\"kotak\")\n",
    "print(banks,type(banks))\n",
    "print(\"First bank is \",banks[0])\n",
    "print(\"Last element of the list is \",banks[2:6])\n",
    "print(\"Last element of the list is \",banks[-1])\n",
    "print(\"Reverse the banks\",banks[::-1])\n",
    "print(\"Print every next banks\",banks[::2])\n",
    "print(banks.count(\"kotak\"))\n",
    "print(banks.index(\"kotak\",5))\n",
    "newbanks=banks\n",
    "print(newbanks)"
   ]
  },
  {
   "cell_type": "code",
   "execution_count": null,
   "id": "783affba",
   "metadata": {},
   "outputs": [],
   "source": [
    "print(dir(tuple))"
   ]
  },
  {
   "cell_type": "code",
   "execution_count": 11,
   "id": "c89c6583",
   "metadata": {},
   "outputs": [
    {
     "ename": "TypeError",
     "evalue": "'tuple' object doesn't support item deletion",
     "output_type": "error",
     "traceback": [
      "\u001b[1;31m---------------------------------------------------------------------------\u001b[0m",
      "\u001b[1;31mTypeError\u001b[0m                                 Traceback (most recent call last)",
      "\u001b[1;32m~\\AppData\\Local\\Temp/ipykernel_11412/2762111854.py\u001b[0m in \u001b[0;36m<module>\u001b[1;34m\u001b[0m\n\u001b[0;32m      1\u001b[0m \u001b[0mnse\u001b[0m\u001b[1;33m=\u001b[0m\u001b[1;33m(\u001b[0m\u001b[1;34m\"olectra\"\u001b[0m\u001b[1;33m,\u001b[0m\u001b[1;34m\"5-5-2022\"\u001b[0m\u001b[1;33m,\u001b[0m\u001b[1;36m2000\u001b[0m\u001b[1;33m,\u001b[0m\u001b[1;36m850.50\u001b[0m\u001b[1;33m)\u001b[0m\u001b[1;33m\u001b[0m\u001b[1;33m\u001b[0m\u001b[0m\n\u001b[0;32m      2\u001b[0m \u001b[1;31m#nse[0]=\"ibm\" # TypeError: 'tuple' object does not support item assignment\u001b[0m\u001b[1;33m\u001b[0m\u001b[1;33m\u001b[0m\u001b[0m\n\u001b[1;32m----> 3\u001b[1;33m \u001b[1;32mdel\u001b[0m \u001b[0mnse\u001b[0m\u001b[1;33m[\u001b[0m\u001b[1;36m3\u001b[0m\u001b[1;33m]\u001b[0m\u001b[1;33m\u001b[0m\u001b[1;33m\u001b[0m\u001b[0m\n\u001b[0m\u001b[0;32m      4\u001b[0m \u001b[1;33m\u001b[0m\u001b[0m\n\u001b[0;32m      5\u001b[0m \u001b[0mprint\u001b[0m\u001b[1;33m(\u001b[0m\u001b[0mnse\u001b[0m\u001b[1;33m[\u001b[0m\u001b[1;36m0\u001b[0m\u001b[1;33m]\u001b[0m\u001b[1;33m,\u001b[0m\u001b[0mnse\u001b[0m\u001b[1;33m[\u001b[0m\u001b[1;36m1\u001b[0m\u001b[1;33m]\u001b[0m\u001b[1;33m,\u001b[0m\u001b[0mnse\u001b[0m\u001b[1;33m[\u001b[0m\u001b[1;36m2\u001b[0m\u001b[1;33m]\u001b[0m\u001b[1;33m,\u001b[0m\u001b[0mnse\u001b[0m\u001b[1;33m[\u001b[0m\u001b[1;36m3\u001b[0m\u001b[1;33m]\u001b[0m\u001b[1;33m)\u001b[0m\u001b[1;33m\u001b[0m\u001b[1;33m\u001b[0m\u001b[0m\n",
      "\u001b[1;31mTypeError\u001b[0m: 'tuple' object doesn't support item deletion"
     ]
    }
   ],
   "source": [
    "nse=(\"olectra\",\"5-5-2022\",2000,850.50)\n",
    "#nse[0]=\"ibm\" # TypeError: 'tuple' object does not support item assignment\n",
    "#del nse[3] # TypeError: 'tuple' object doesn't support item deletion\n",
    "print(nse[0],nse[1],nse[2],nse[3])\n",
    "#company,date,shares,price=nse # multiple variable assignment\n",
    "#print(company,date,shares,price)"
   ]
  },
  {
   "cell_type": "code",
   "execution_count": 21,
   "id": "635bafc0",
   "metadata": {},
   "outputs": [
    {
     "name": "stdout",
     "output_type": "stream",
     "text": [
      "<class 'int'>\n",
      "<class 'int'>\n",
      "<class 'tuple'>\n",
      "<class 'tuple'>\n",
      "<class 'dict'>\n",
      "<class 'set'>\n",
      "<class 'dict'>\n"
     ]
    }
   ],
   "source": [
    "x=10 # int\n",
    "print(type(x))\n",
    "x=(10) # int\n",
    "print(type(x))\n",
    "x=(10,) # tuple \n",
    "print(type(x))\n",
    "x=10,20,30 # tuple\n",
    "print(type(x))\n",
    "x={}\n",
    "print(type(x))\n",
    "x={10}\n",
    "print(type(x))\n",
    "x={10:\"sachin\"}\n",
    "print(type(x))"
   ]
  },
  {
   "cell_type": "code",
   "execution_count": 18,
   "id": "9d745fc5",
   "metadata": {},
   "outputs": [
    {
     "name": "stdout",
     "output_type": "stream",
     "text": [
      "sachin 10 india 100 56.45\n"
     ]
    }
   ],
   "source": [
    "def foo():\n",
    "    return \"sachin\",10,\"india\",100,56.45\n",
    "\n",
    "player,jersey,country,runs,average=foo()\n",
    "print(player,jersey,country,runs,average)"
   ]
  },
  {
   "cell_type": "code",
   "execution_count": null,
   "id": "e6673167",
   "metadata": {},
   "outputs": [],
   "source": []
  }
 ],
 "metadata": {
  "kernelspec": {
   "display_name": "Python 3 (ipykernel)",
   "language": "python",
   "name": "python3"
  },
  "language_info": {
   "codemirror_mode": {
    "name": "ipython",
    "version": 3
   },
   "file_extension": ".py",
   "mimetype": "text/x-python",
   "name": "python",
   "nbconvert_exporter": "python",
   "pygments_lexer": "ipython3",
   "version": "3.9.7"
  }
 },
 "nbformat": 4,
 "nbformat_minor": 5
}
